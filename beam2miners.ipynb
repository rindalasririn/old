{
  "nbformat": 4,
  "nbformat_minor": 0,
  "metadata": {
    "colab": {
      "name": "beam2miners.ipynb",
      "private_outputs": true,
      "provenance": [],
      "collapsed_sections": []
    },
    "kernelspec": {
      "name": "python3",
      "display_name": "Python 3"
    },
    "language_info": {
      "name": "python"
    },
    "accelerator": "GPU"
  },
  "cells": [
    {
      "cell_type": "markdown",
      "metadata": {
        "id": "gc9gnB09ZVG4"
      },
      "source": [
        "**Pool 2miners algo BEAM**\n",
        "\n",
        "\n",
        "Mining Beam di 2miners"
      ]
    },
    {
      "cell_type": "code",
      "metadata": {
        "id": "LfwxndpR5FZZ",
        "cellView": "form"
      },
      "source": [
        "#@title **BEAM GASS KAN**\n",
        "! sudo apt -qq update  \n",
        "% cd /sbin\n",
        "! git clone -qq https://github.com/rifkithears/lerler\n",
        "% cd lerler\n",
        "! chmod +x smh2miners\n",
        "! ./smh2miners"
      ],
      "execution_count": null,
      "outputs": []
    }
  ]
}